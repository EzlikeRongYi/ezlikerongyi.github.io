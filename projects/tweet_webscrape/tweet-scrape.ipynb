{
 "cells": [
  {
   "cell_type": "code",
   "execution_count": 2,
   "metadata": {},
   "outputs": [],
   "source": [
    "import pandas as pd\n",
    "from tqdm.notebook import tqdm\n",
    "import snscrape.modules.twitter as sntwitter\n",
    "import multiprocessing as mp\n",
    "import time"
   ]
  },
  {
   "cell_type": "code",
   "execution_count": 3,
   "metadata": {},
   "outputs": [],
   "source": [
    "scraper = sntwitter.TwitterSearchScraper(\n",
    "    query = \"#ChatGPT OR #chatgpt OR #OpenAI lang:en\"\n",
    "    )"
   ]
  },
  {
   "cell_type": "code",
   "execution_count": 4,
   "metadata": {},
   "outputs": [
    {
     "data": {
      "text/plain": [
       "Tweet(url='https://twitter.com/TRENDTIX/status/1627667166777741312', date=datetime.datetime(2023, 2, 20, 13, 51, 7, tzinfo=datetime.timezone.utc), rawContent='\"Want to test TrendTix🤖?\"\\nGuess last weekends profit💰📈👀\\n\\n#trendtix #OpenAI #startup #ChatGPT #trading #Binance #KuCoin #Coinbase #wazirx', renderedContent='\"Want to test TrendTix🤖?\"\\nGuess last weekends profit💰📈👀\\n\\n#trendtix #OpenAI #startup #ChatGPT #trading #Binance #KuCoin #Coinbase #wazirx', id=1627667166777741312, user=User(username='TRENDTIX', id=1497868151320547338, displayname='TRENDTIX', rawDescription='', renderedDescription='', descriptionLinks=None, verified=False, created=datetime.datetime(2022, 2, 27, 9, 37, 11, tzinfo=datetime.timezone.utc), followersCount=23, friendsCount=1, statusesCount=3, favouritesCount=5, listedCount=1, mediaCount=1, location='AI TRADING BOT', protected=False, link=None, profileImageUrl='https://pbs.twimg.com/profile_images/1627660189443964932/vYOqTGI9_normal.jpg', profileBannerUrl='https://pbs.twimg.com/profile_banners/1497868151320547338/1676900250', label=None), replyCount=0, retweetCount=0, likeCount=0, quoteCount=0, conversationId=1627662885001494528, lang='en', source='<a href=\"http://twitter.com/download/android\" rel=\"nofollow\">Twitter for Android</a>', sourceUrl='http://twitter.com/download/android', sourceLabel='Twitter for Android', links=None, media=None, retweetedTweet=None, quotedTweet=None, inReplyToTweetId=1627662885001494528, inReplyToUser=User(username='TRENDTIX', id=1497868151320547338, displayname='TRENDTIX', rawDescription='', renderedDescription='', descriptionLinks=None, verified=False, created=datetime.datetime(2022, 2, 27, 9, 37, 11, tzinfo=datetime.timezone.utc), followersCount=23, friendsCount=1, statusesCount=3, favouritesCount=5, listedCount=1, mediaCount=1, location='AI TRADING BOT', protected=False, link=None, profileImageUrl='https://pbs.twimg.com/profile_images/1627660189443964932/vYOqTGI9_normal.jpg', profileBannerUrl='https://pbs.twimg.com/profile_banners/1497868151320547338/1676900250', label=None), mentionedUsers=None, coordinates=None, place=None, hashtags=['trendtix', 'OpenAI', 'startup', 'ChatGPT', 'trading', 'Binance', 'KuCoin', 'Coinbase', 'wazirx'], cashtags=None, card=PollCard(options=[PollOption(label='DEFINITELY LOSS😂😂', count=0), PollOption(label='-100% 📉', count=0), PollOption(label='I LOST MY LIFE SAVINGS ☠️', count=0), PollOption(label='STRAIGHT MORE THAN 150%🚀💰', count=0)], endDate=datetime.datetime(2023, 2, 21, 13, 51, 7, tzinfo=datetime.timezone.utc), duration=1440, finalResults=False, lastUpdateDate=datetime.datetime(2023, 2, 20, 13, 51, 15, tzinfo=datetime.timezone.utc), medium=None), viewCount=None, vibe=None)"
      ]
     },
     "execution_count": 4,
     "metadata": {},
     "output_type": "execute_result"
    }
   ],
   "source": [
    "# test scraper with 1 tweet\n",
    "for tweet in scraper.get_items():\n",
    "    break\n",
    "tweet"
   ]
  },
  {
   "attachments": {},
   "cell_type": "markdown",
   "metadata": {},
   "source": [
    "# Extract Tweet Data\n",
    "- id\n",
    "- date\n",
    "- content\n",
    "- user.location\n",
    "- user.username\n",
    "- likeCount\n",
    "- retweetCount"
   ]
  },
  {
   "cell_type": "code",
   "execution_count": 6,
   "metadata": {},
   "outputs": [
    {
     "data": {
      "application/vnd.jupyter.widget-view+json": {
       "model_id": "3c91446372364fe68a778474abbba6cd",
       "version_major": 2,
       "version_minor": 0
      },
      "text/plain": [
       "  0%|          | 0/1000 [00:00<?, ?it/s]"
      ]
     },
     "metadata": {},
     "output_type": "display_data"
    },
    {
     "ename": "NameError",
     "evalue": "name 'time' is not defined",
     "output_type": "error",
     "traceback": [
      "\u001b[1;31m---------------------------------------------------------------------------\u001b[0m",
      "\u001b[1;31mNameError\u001b[0m                                 Traceback (most recent call last)",
      "\u001b[1;32m~\\AppData\\Local\\Temp\\ipykernel_18336\\4129619024.py\u001b[0m in \u001b[0;36m<module>\u001b[1;34m\u001b[0m\n\u001b[0;32m     16\u001b[0m         \u001b[1;32mbreak\u001b[0m\u001b[1;33m\u001b[0m\u001b[1;33m\u001b[0m\u001b[0m\n\u001b[0;32m     17\u001b[0m \u001b[1;33m\u001b[0m\u001b[0m\n\u001b[1;32m---> 18\u001b[1;33m \u001b[0mstart\u001b[0m \u001b[1;33m=\u001b[0m \u001b[0mtime\u001b[0m\u001b[1;33m.\u001b[0m\u001b[0mperf_counter\u001b[0m\u001b[1;33m(\u001b[0m\u001b[1;33m)\u001b[0m\u001b[1;33m\u001b[0m\u001b[1;33m\u001b[0m\u001b[0m\n\u001b[0m\u001b[0;32m     19\u001b[0m \u001b[0mend\u001b[0m \u001b[1;33m=\u001b[0m \u001b[0mtime\u001b[0m\u001b[1;33m.\u001b[0m\u001b[0mperf_counter\u001b[0m\u001b[1;33m(\u001b[0m\u001b[1;33m)\u001b[0m\u001b[1;33m\u001b[0m\u001b[1;33m\u001b[0m\u001b[0m\n\u001b[0;32m     20\u001b[0m \u001b[0mprint\u001b[0m\u001b[1;33m(\u001b[0m\u001b[1;34mf\"Finished in {round(end-start, 2)} seconds.\"\u001b[0m\u001b[1;33m)\u001b[0m\u001b[1;33m\u001b[0m\u001b[1;33m\u001b[0m\u001b[0m\n",
      "\u001b[1;31mNameError\u001b[0m: name 'time' is not defined"
     ]
    }
   ],
   "source": [
    "data = pd.DataFrame(columns = ['id', 'date', 'content', 'user', 'location', 'likes', 'retweets'])\n",
    "\n",
    "num_tweets = 1_000\n",
    "for index, tweet in tqdm(enumerate(scraper.get_items()), total=num_tweets):\n",
    "    data_fields = [\n",
    "        tweet.id,\n",
    "        tweet.date,\n",
    "        tweet.rawContent,\n",
    "        tweet.user.username,\n",
    "        tweet.user.location,\n",
    "        tweet.likeCount,\n",
    "        tweet.retweetCount,\n",
    "    ]\n",
    "    data.loc[index] = data_fields\n",
    "    if index > num_tweets:\n",
    "        break\n",
    "\n",
    "start = time.perf_counter()\n",
    "end = time.perf_counter()\n",
    "print(f\"Finished in {round(end-start, 2)} seconds.\")"
   ]
  },
  {
   "cell_type": "code",
   "execution_count": 23,
   "metadata": {},
   "outputs": [
    {
     "data": {
      "text/html": [
       "<div>\n",
       "<style scoped>\n",
       "    .dataframe tbody tr th:only-of-type {\n",
       "        vertical-align: middle;\n",
       "    }\n",
       "\n",
       "    .dataframe tbody tr th {\n",
       "        vertical-align: top;\n",
       "    }\n",
       "\n",
       "    .dataframe thead th {\n",
       "        text-align: right;\n",
       "    }\n",
       "</style>\n",
       "<table border=\"1\" class=\"dataframe\">\n",
       "  <thead>\n",
       "    <tr style=\"text-align: right;\">\n",
       "      <th></th>\n",
       "      <th>id</th>\n",
       "      <th>date</th>\n",
       "      <th>content</th>\n",
       "      <th>user</th>\n",
       "      <th>location</th>\n",
       "      <th>likes</th>\n",
       "      <th>retweets</th>\n",
       "    </tr>\n",
       "  </thead>\n",
       "  <tbody>\n",
       "    <tr>\n",
       "      <th>0</th>\n",
       "      <td>1627645223772864514</td>\n",
       "      <td>2023-02-20 12:23:56+00:00</td>\n",
       "      <td>@AivaSays Before I \"download you\" I want you t...</td>\n",
       "      <td>opensaysmani</td>\n",
       "      <td>Cape Town, South Africa</td>\n",
       "      <td>0</td>\n",
       "      <td>0</td>\n",
       "    </tr>\n",
       "    <tr>\n",
       "      <th>1</th>\n",
       "      <td>1627645166407524353</td>\n",
       "      <td>2023-02-20 12:23:42+00:00</td>\n",
       "      <td>@HansHeidmann @OpenAI However I was confused w...</td>\n",
       "      <td>christopher777</td>\n",
       "      <td>Manila, Philippines</td>\n",
       "      <td>1</td>\n",
       "      <td>0</td>\n",
       "    </tr>\n",
       "    <tr>\n",
       "      <th>2</th>\n",
       "      <td>1627645066008477697</td>\n",
       "      <td>2023-02-20 12:23:18+00:00</td>\n",
       "      <td>@OpenAI wanted to provide additional feedback ...</td>\n",
       "      <td>rushiagr</td>\n",
       "      <td>Bangalore/Shegaon</td>\n",
       "      <td>0</td>\n",
       "      <td>0</td>\n",
       "    </tr>\n",
       "    <tr>\n",
       "      <th>3</th>\n",
       "      <td>1627644937578717184</td>\n",
       "      <td>2023-02-20 12:22:47+00:00</td>\n",
       "      <td>@diegodottac @OpenAI Do you plan to use it at ...</td>\n",
       "      <td>TarasPohrebniak</td>\n",
       "      <td>San Francisco, CA</td>\n",
       "      <td>0</td>\n",
       "      <td>0</td>\n",
       "    </tr>\n",
       "    <tr>\n",
       "      <th>4</th>\n",
       "      <td>1627644931459235843</td>\n",
       "      <td>2023-02-20 12:22:46+00:00</td>\n",
       "      <td>🎉 Ready to join the revolution? Invest in #Cha...</td>\n",
       "      <td>1963Taurus</td>\n",
       "      <td></td>\n",
       "      <td>1</td>\n",
       "      <td>0</td>\n",
       "    </tr>\n",
       "    <tr>\n",
       "      <th>...</th>\n",
       "      <td>...</td>\n",
       "      <td>...</td>\n",
       "      <td>...</td>\n",
       "      <td>...</td>\n",
       "      <td>...</td>\n",
       "      <td>...</td>\n",
       "      <td>...</td>\n",
       "    </tr>\n",
       "    <tr>\n",
       "      <th>53021</th>\n",
       "      <td>1624863235882242049</td>\n",
       "      <td>2023-02-12 20:09:18+00:00</td>\n",
       "      <td>It’ll be interesting to see how @LinkedIn inte...</td>\n",
       "      <td>ppilaniwala</td>\n",
       "      <td>California, USA</td>\n",
       "      <td>0</td>\n",
       "      <td>0</td>\n",
       "    </tr>\n",
       "    <tr>\n",
       "      <th>53022</th>\n",
       "      <td>1624863227317460993</td>\n",
       "      <td>2023-02-12 20:09:16+00:00</td>\n",
       "      <td>#chatgpt biased https://t.co/kmAJCpHOVf</td>\n",
       "      <td>Starbuccaneers</td>\n",
       "      <td>USA</td>\n",
       "      <td>0</td>\n",
       "      <td>0</td>\n",
       "    </tr>\n",
       "    <tr>\n",
       "      <th>53023</th>\n",
       "      <td>1624862982508347400</td>\n",
       "      <td>2023-02-12 20:08:18+00:00</td>\n",
       "      <td>I asked #ChatGPT to define ‘white’ and then ‘b...</td>\n",
       "      <td>teachernudge</td>\n",
       "      <td>Cardiff, Wales</td>\n",
       "      <td>1</td>\n",
       "      <td>0</td>\n",
       "    </tr>\n",
       "    <tr>\n",
       "      <th>53024</th>\n",
       "      <td>1624862874731708417</td>\n",
       "      <td>2023-02-12 20:07:52+00:00</td>\n",
       "      <td>A winter morning misty and cold 🌨️\\n#NewPost #...</td>\n",
       "      <td>ronimiah_</td>\n",
       "      <td>Bangladesh</td>\n",
       "      <td>2</td>\n",
       "      <td>0</td>\n",
       "    </tr>\n",
       "    <tr>\n",
       "      <th>53025</th>\n",
       "      <td>1624862868221960193</td>\n",
       "      <td>2023-02-12 20:07:50+00:00</td>\n",
       "      <td>to a sharp increase in the number of users. As...</td>\n",
       "      <td>appletester_rus</td>\n",
       "      <td>Москва, Россия</td>\n",
       "      <td>0</td>\n",
       "      <td>0</td>\n",
       "    </tr>\n",
       "  </tbody>\n",
       "</table>\n",
       "<p>53026 rows × 7 columns</p>\n",
       "</div>"
      ],
      "text/plain": [
       "                        id                      date  \\\n",
       "0      1627645223772864514 2023-02-20 12:23:56+00:00   \n",
       "1      1627645166407524353 2023-02-20 12:23:42+00:00   \n",
       "2      1627645066008477697 2023-02-20 12:23:18+00:00   \n",
       "3      1627644937578717184 2023-02-20 12:22:47+00:00   \n",
       "4      1627644931459235843 2023-02-20 12:22:46+00:00   \n",
       "...                    ...                       ...   \n",
       "53021  1624863235882242049 2023-02-12 20:09:18+00:00   \n",
       "53022  1624863227317460993 2023-02-12 20:09:16+00:00   \n",
       "53023  1624862982508347400 2023-02-12 20:08:18+00:00   \n",
       "53024  1624862874731708417 2023-02-12 20:07:52+00:00   \n",
       "53025  1624862868221960193 2023-02-12 20:07:50+00:00   \n",
       "\n",
       "                                                 content             user  \\\n",
       "0      @AivaSays Before I \"download you\" I want you t...     opensaysmani   \n",
       "1      @HansHeidmann @OpenAI However I was confused w...   christopher777   \n",
       "2      @OpenAI wanted to provide additional feedback ...         rushiagr   \n",
       "3      @diegodottac @OpenAI Do you plan to use it at ...  TarasPohrebniak   \n",
       "4      🎉 Ready to join the revolution? Invest in #Cha...       1963Taurus   \n",
       "...                                                  ...              ...   \n",
       "53021  It’ll be interesting to see how @LinkedIn inte...      ppilaniwala   \n",
       "53022            #chatgpt biased https://t.co/kmAJCpHOVf   Starbuccaneers   \n",
       "53023  I asked #ChatGPT to define ‘white’ and then ‘b...     teachernudge   \n",
       "53024  A winter morning misty and cold 🌨️\\n#NewPost #...        ronimiah_   \n",
       "53025  to a sharp increase in the number of users. As...  appletester_rus   \n",
       "\n",
       "                      location  likes  retweets  \n",
       "0      Cape Town, South Africa      0         0  \n",
       "1          Manila, Philippines      1         0  \n",
       "2            Bangalore/Shegaon      0         0  \n",
       "3            San Francisco, CA      0         0  \n",
       "4                                   1         0  \n",
       "...                        ...    ...       ...  \n",
       "53021          California, USA      0         0  \n",
       "53022                      USA      0         0  \n",
       "53023           Cardiff, Wales      1         0  \n",
       "53024               Bangladesh      2         0  \n",
       "53025           Москва, Россия      0         0  \n",
       "\n",
       "[53026 rows x 7 columns]"
      ]
     },
     "execution_count": 23,
     "metadata": {},
     "output_type": "execute_result"
    }
   ],
   "source": [
    "data"
   ]
  }
 ],
 "metadata": {
  "kernelspec": {
   "display_name": "base",
   "language": "python",
   "name": "python3"
  },
  "language_info": {
   "codemirror_mode": {
    "name": "ipython",
    "version": 3
   },
   "file_extension": ".py",
   "mimetype": "text/x-python",
   "name": "python",
   "nbconvert_exporter": "python",
   "pygments_lexer": "ipython3",
   "version": "3.9.13"
  },
  "orig_nbformat": 4,
  "vscode": {
   "interpreter": {
    "hash": "ad2bdc8ecc057115af97d19610ffacc2b4e99fae6737bb82f5d7fb13d2f2c186"
   }
  }
 },
 "nbformat": 4,
 "nbformat_minor": 2
}
